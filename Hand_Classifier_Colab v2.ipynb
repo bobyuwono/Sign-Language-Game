{
  "nbformat": 4,
  "nbformat_minor": 0,
  "metadata": {
    "colab": {
      "name": "Hand Classifier Colab.ipynb",
      "provenance": [],
      "collapsed_sections": []
    },
    "kernelspec": {
      "name": "python3",
      "display_name": "Python 3"
    },
    "accelerator": "GPU"
  },
  "cells": [
    {
      "cell_type": "code",
      "metadata": {
        "id": "HlCiflePyf2T",
        "colab_type": "code",
        "cellView": "both",
        "outputId": "1952b83a-5172-4f10-977b-179bf78e302a",
        "colab": {
          "base_uri": "https://localhost:8080/",
          "height": 161
        }
      },
      "source": [
        "#@title Import Library\n",
        "\n",
        "\n",
        "import keras\n",
        "from keras.layers import Dense, Dropout, Activation, Flatten, Conv2D, MaxPooling2D, Lambda, MaxPool2D, BatchNormalization\n",
        "from keras.utils import np_utils\n",
        "from keras.utils.np_utils import to_categorical\n",
        "from keras.preprocessing.image import ImageDataGenerator\n",
        "from keras import models, layers, optimizers\n",
        "from sklearn.model_selection import train_test_split\n",
        "from sklearn.metrics import confusion_matrix, accuracy_score\n",
        "from sklearn.utils import class_weight\n",
        "from keras.optimizers import SGD, RMSprop, Adam, Adagrad, Adadelta, RMSprop\n",
        "from keras.models import Sequential, model_from_json\n",
        "from keras.layers import Activation,Dense, Dropout, Flatten, Conv2D, MaxPool2D,MaxPooling2D,AveragePooling2D, BatchNormalization\n",
        "from keras.preprocessing.image import ImageDataGenerator\n",
        "from keras.callbacks import ReduceLROnPlateau, ModelCheckpoint\n",
        "from keras import backend as K\n",
        "from keras.applications.vgg16 import VGG16\n",
        "from keras.models import Model\n",
        "from keras.applications.inception_v3 import InceptionV3\n",
        "import os\n",
        "from glob import glob\n",
        "import matplotlib.pyplot as plt\n",
        "import random\n",
        "import cv2\n",
        "import pandas as pd\n",
        "import numpy as np\n",
        "import matplotlib.gridspec as gridspec\n",
        "import seaborn as sns\n",
        "import zlib\n",
        "import itertools\n",
        "import sklearn\n",
        "import itertools\n",
        "import scipy\n",
        "import skimage\n",
        "from skimage.transform import resize\n",
        "import csv\n",
        "from tqdm import tqdm\n",
        "from sklearn import model_selection\n",
        "from sklearn.model_selection import train_test_split, learning_curve,KFold,cross_val_score,StratifiedKFold\n",
        "from sklearn.utils import class_weight\n",
        "from sklearn.metrics import confusion_matrix\n",
        "from imblearn.over_sampling import RandomOverSampler\n",
        "from imblearn.under_sampling import RandomUnderSampler\n",
        "#from keras.applications.mobilenet import MobileNet\n",
        "#from sklearn.metrics import roc_auc_score\n",
        "#from sklearn.metrics import roc_curve\n",
        "#from sklearn.metrics import auc\n",
        "#import warnings\n",
        "#warnings.filterwarnings(\"ignore\")\n",
        "%matplotlib inline"
      ],
      "execution_count": 0,
      "outputs": [
        {
          "output_type": "stream",
          "text": [
            "Using TensorFlow backend.\n",
            "/usr/local/lib/python3.6/dist-packages/statsmodels/tools/_testing.py:19: FutureWarning: pandas.util.testing is deprecated. Use the functions in the public API at pandas.testing instead.\n",
            "  import pandas.util.testing as tm\n",
            "/usr/local/lib/python3.6/dist-packages/sklearn/externals/six.py:31: FutureWarning: The module is deprecated in version 0.21 and will be removed in version 0.23 since we've dropped support for Python 2.7. Please rely on the official version of six (https://pypi.org/project/six/).\n",
            "  \"(https://pypi.org/project/six/).\", FutureWarning)\n",
            "/usr/local/lib/python3.6/dist-packages/sklearn/utils/deprecation.py:144: FutureWarning: The sklearn.neighbors.base module is  deprecated in version 0.22 and will be removed in version 0.24. The corresponding classes / functions should instead be imported from sklearn.neighbors. Anything that cannot be imported from sklearn.neighbors is now part of the private API.\n",
            "  warnings.warn(message, FutureWarning)\n"
          ],
          "name": "stderr"
        }
      ]
    },
    {
      "cell_type": "code",
      "metadata": {
        "id": "0qmv566drrQQ",
        "colab_type": "code",
        "colab": {}
      },
      "source": [
        "#install dependencies\n",
        "!pip install kaggle "
      ],
      "execution_count": 0,
      "outputs": []
    },
    {
      "cell_type": "code",
      "metadata": {
        "id": "FepjY7HAsB_x",
        "colab_type": "code",
        "colab": {}
      },
      "source": [
        "#upload kaggle account credentials\n",
        "from google.colab import files\n",
        "files.upload()"
      ],
      "execution_count": 0,
      "outputs": []
    },
    {
      "cell_type": "code",
      "metadata": {
        "id": "bYEoGMkFs3yg",
        "colab_type": "code",
        "colab": {}
      },
      "source": [
        "# the kaggle API client expects this file to be in ~/.kaggle\n",
        "!mkdir -p ~/.kaggle\n",
        "!cp  kaggle.json ~/.kaggle/\n",
        "\n",
        "# this permission change avoids a warning on kaggle tool startup\n",
        "!chmod 600 ~/.kaggle/kaggle.json "
      ],
      "execution_count": 0,
      "outputs": []
    },
    {
      "cell_type": "code",
      "metadata": {
        "id": "atrjpjwLs584",
        "colab_type": "code",
        "colab": {}
      },
      "source": [
        "#import dataset\n",
        "!kaggle datasets download -d grassknoted/asl-alphabet"
      ],
      "execution_count": 0,
      "outputs": []
    },
    {
      "cell_type": "code",
      "metadata": {
        "id": "eHY3IDtRt5ZM",
        "colab_type": "code",
        "colab": {}
      },
      "source": [
        "!ls\n"
      ],
      "execution_count": 0,
      "outputs": []
    },
    {
      "cell_type": "code",
      "metadata": {
        "id": "f35XZgNrt6YH",
        "colab_type": "code",
        "colab": {}
      },
      "source": [
        "import os\n",
        "!unzip asl-alphabet.zip\n"
      ],
      "execution_count": 0,
      "outputs": []
    },
    {
      "cell_type": "code",
      "metadata": {
        "id": "bmpuLmR7wtPH",
        "colab_type": "code",
        "colab": {}
      },
      "source": [
        "imageSize=50\n",
        "train_dir = \"../content/asl_alphabet_train/asl_alphabet_train/\"\n",
        "test_dir =  \"../content/asl_alphabet_test/asl_alphabet_test/\"\n",
        "from tqdm import tqdm\n",
        "def get_data(folder):\n",
        "    \"\"\"\n",
        "    Load the data and labels from the given folder.\n",
        "    \"\"\"\n",
        "    X = []\n",
        "    y = []\n",
        "    for folderName in os.listdir(folder):\n",
        "        if not folderName.startswith('.'):\n",
        "            if folderName in ['A']:\n",
        "                label = 0\n",
        "            elif folderName in ['B']:\n",
        "                label = 1\n",
        "            elif folderName in ['C']:\n",
        "                label = 2\n",
        "            elif folderName in ['D']:\n",
        "                label = 3\n",
        "            elif folderName in ['E']:\n",
        "                label = 4\n",
        "            elif folderName in ['F']:\n",
        "                label = 5\n",
        "            elif folderName in ['G']:\n",
        "                label = 6\n",
        "            elif folderName in ['H']:\n",
        "                label = 7\n",
        "            elif folderName in ['I']:\n",
        "                label = 8\n",
        "            elif folderName in ['J']:\n",
        "                label = 9\n",
        "            elif folderName in ['K']:\n",
        "                label = 10\n",
        "            elif folderName in ['L']:\n",
        "                label = 11\n",
        "            elif folderName in ['M']:\n",
        "                label = 12\n",
        "            elif folderName in ['N']:\n",
        "                label = 13\n",
        "            elif folderName in ['O']:\n",
        "                label = 14\n",
        "            elif folderName in ['P']:\n",
        "                label = 15\n",
        "            elif folderName in ['Q']:\n",
        "                label = 16\n",
        "            elif folderName in ['R']:\n",
        "                label = 17\n",
        "            elif folderName in ['S']:\n",
        "                label = 18\n",
        "            elif folderName in ['T']:\n",
        "                label = 19\n",
        "            elif folderName in ['U']:\n",
        "                label = 20\n",
        "            elif folderName in ['V']:\n",
        "                label = 21\n",
        "            elif folderName in ['W']:\n",
        "                label = 22\n",
        "            elif folderName in ['X']:\n",
        "                label = 23\n",
        "            elif folderName in ['Y']:\n",
        "                label = 24\n",
        "            elif folderName in ['Z']:\n",
        "                label = 25\n",
        "            elif folderName in ['del']:\n",
        "                label = 26\n",
        "            elif folderName in ['nothing']:\n",
        "                label = 27\n",
        "            elif folderName in ['space']:\n",
        "                label = 28           \n",
        "            else:\n",
        "                label = 29\n",
        "            for image_filename in tqdm(os.listdir(folder + folderName)):\n",
        "                img_file = cv2.imread(folder + folderName + '/' + image_filename)\n",
        "                if img_file is not None:\n",
        "                    img_file = skimage.transform.resize(img_file, (imageSize, imageSize, 3))\n",
        "                    img_arr = np.asarray(img_file)\n",
        "                    X.append(img_arr)\n",
        "                    y.append(label)\n",
        "    X = np.asarray(X)\n",
        "    y = np.asarray(y)\n",
        "    return X,y\n",
        "X_train, y_train = get_data(train_dir) \n",
        "#X_test, y_test= get_data(test_dir) # Too few images\n",
        "\n",
        "from sklearn.model_selection import train_test_split\n",
        "X_train, X_test, y_train, y_test = train_test_split(X_train, y_train, test_size=0.2) \n",
        "\n",
        "# Encode labels to hot vectors (ex : 2 -> [0,0,1,0,0,0,0,0,0,0])\n",
        "from keras.utils.np_utils import to_categorical\n",
        "y_trainHot = to_categorical(y_train, num_classes = 30)\n",
        "y_testHot = to_categorical(y_test, num_classes = 30)"
      ],
      "execution_count": 0,
      "outputs": []
    },
    {
      "cell_type": "code",
      "metadata": {
        "id": "m-itWk7Ny-Tp",
        "colab_type": "code",
        "colab": {}
      },
      "source": [
        "from sklearn.utils import shuffle\n",
        "X_train, y_trainHot = shuffle(X_train, y_trainHot, random_state=13)\n",
        "X_test, y_testHot = shuffle(X_test, y_testHot, random_state=13)\n",
        "X_train = X_train[:30000]\n",
        "X_test = X_test[:30000]\n",
        "y_trainHot = y_trainHot[:30000]\n",
        "y_testHot = y_testHot[:30000]"
      ],
      "execution_count": 0,
      "outputs": []
    },
    {
      "cell_type": "markdown",
      "metadata": {
        "id": "_PFUSZGJzQq_",
        "colab_type": "text"
      },
      "source": [
        "# Data Visualization"
      ]
    },
    {
      "cell_type": "code",
      "metadata": {
        "id": "e1D64S11zOQr",
        "colab_type": "code",
        "colab": {}
      },
      "source": [
        "def plotHistogram(a):\n",
        "    \"\"\"\n",
        "    Plot histogram of RGB Pixel Intensities\n",
        "    \"\"\"\n",
        "    plt.figure(figsize=(10,5))\n",
        "    plt.subplot(1,2,1)\n",
        "    plt.imshow(a)\n",
        "    plt.axis('off')\n",
        "    histo = plt.subplot(1,2,2)\n",
        "    histo.set_ylabel('Count')\n",
        "    histo.set_xlabel('Pixel Intensity')\n",
        "    n_bins = 30\n",
        "    plt.hist(a[:,:,0].flatten(), bins= n_bins, lw = 0, color='r', alpha=0.5);\n",
        "    plt.hist(a[:,:,1].flatten(), bins= n_bins, lw = 0, color='g', alpha=0.5);\n",
        "    plt.hist(a[:,:,2].flatten(), bins= n_bins, lw = 0, color='b', alpha=0.5);"
      ],
      "execution_count": 0,
      "outputs": []
    },
    {
      "cell_type": "code",
      "metadata": {
        "id": "UCVwhCGs1z96",
        "colab_type": "code",
        "colab": {}
      },
      "source": [
        "'testing plotHistogram fucntion'\n",
        "plotHistogram(X_train[1])"
      ],
      "execution_count": 0,
      "outputs": []
    },
    {
      "cell_type": "code",
      "metadata": {
        "id": "2rlzY0to5jln",
        "colab_type": "code",
        "colab": {}
      },
      "source": [
        "def plotThreeImages(images):\n",
        "  \"\"\"\n",
        "  Plotting for three images\n",
        "  \"\"\"\n",
        "  r =random.sample(images,3)\n",
        "  plt.figure(figsize=(16,16))\n",
        "  plt.subplot(131)\n",
        "  plt.imshow(cv2.imread(r[0]))\n",
        "  plt.subplot(132)\n",
        "  plt.imshow(cv2.imread(r[1]))\n",
        "  plt.subplot(133)\n",
        "  plt.imshow(cv2.imread(r[2]))\n"
      ],
      "execution_count": 0,
      "outputs": []
    },
    {
      "cell_type": "code",
      "metadata": {
        "id": "ipa8uL3411KC",
        "colab_type": "code",
        "colab": {}
      },
      "source": [
        "multipleImages = glob(\"../content/asl_alphabet_train/asl_alphabet_train/A/**\")\n",
        "plotThreeImages(multipleImages)"
      ],
      "execution_count": 0,
      "outputs": []
    },
    {
      "cell_type": "code",
      "metadata": {
        "id": "tPRHw4rt9NuT",
        "colab_type": "code",
        "colab": {}
      },
      "source": [
        "def plotTwentyFiveImages(images):\n",
        "  \"\"\"\n",
        "  Plotting for three images\n",
        "  \"\"\"\n",
        "  plt.rcParams['figure.figsize'] = (10.0, 10.0)\n",
        "  plt.subplots_adjust(wspace=0, hspace=0)\n",
        "\n",
        "  i_ = 0\n",
        "  for l in images[:25]:\n",
        "    im = cv2.imread(l)\n",
        "    im = cv2.resize(im, (128, 128)) \n",
        "    plt.subplot(5, 5, i_+1) #.set_title(l)\n",
        "    plt.imshow(cv2.cvtColor(im, cv2.COLOR_BGR2RGB)); plt.axis('off')\n",
        "    i_ += 1"
      ],
      "execution_count": 0,
      "outputs": []
    },
    {
      "cell_type": "code",
      "metadata": {
        "id": "wS4-8rpg7YOj",
        "colab_type": "code",
        "colab": {}
      },
      "source": [
        "print(\"25 Picture of A\")\n",
        "multipleImages = glob(\"../content/asl_alphabet_train/asl_alphabet_train/A/**\")\n",
        "plotTwentyFiveImages(multipleImages)\n"
      ],
      "execution_count": 0,
      "outputs": []
    },
    {
      "cell_type": "markdown",
      "metadata": {
        "id": "lpVGcJ5N-30S",
        "colab_type": "text"
      },
      "source": [
        "# Mapping Character"
      ]
    },
    {
      "cell_type": "code",
      "metadata": {
        "id": "3DIqlr4--3hy",
        "colab_type": "code",
        "colab": {}
      },
      "source": [
        "dict_mapping = {0: 'A', 1: 'B', 2: 'C', 3: 'D', 4: 'E', 5: 'F', 6: 'G', 7: 'H',\n",
        "                8: 'I', 9: 'J', 10: 'K', 11: 'L', 12: 'M', 13: 'N', 14: 'O',\n",
        "                15: 'P', 16: 'Q', 17: 'R', 18: 'S', 19: 'T', 20: 'U', 21: 'V',\n",
        "                22: 'W', 23: 'X', 24: 'Y', 25: 'Z', 26: 'del', 27: 'nothing', \n",
        "                28: 'space', 29: 'other'\n",
        "                }\n",
        "\n",
        "import seaborn as sns\n",
        "df = pd.DataFrame()\n",
        "df[\"labels\"] = y_train\n",
        "\n",
        "lab = df['labels']\n",
        "sns.countplot(lab)\n",
        "print(dict_mapping)"
      ],
      "execution_count": 0,
      "outputs": []
    },
    {
      "cell_type": "markdown",
      "metadata": {
        "id": "GrK3snsNIsHz",
        "colab_type": "text"
      },
      "source": [
        "# Helper Function"
      ]
    },
    {
      "cell_type": "code",
      "metadata": {
        "id": "c22vK3MQIvt7",
        "colab_type": "code",
        "colab": {}
      },
      "source": [
        "from keras.callbacks import Callback, EarlyStopping, ReduceLROnPlateau, ModelCheckpoint\n",
        "\n",
        "class MetricsCheckpoint(Callback):\n",
        "  \"\"\" Callback to saves metrics after each epoch \"\"\"\n",
        "  def __init__(self, savepath):\n",
        "    super(MetricsCheckpoint, self).__init__()\n",
        "    self.savepath = savepath\n",
        "    self.history= {}\n",
        "  def on_epoch_end (self, epoch, logs = None):\n",
        "    for k, v in logs.items():\n",
        "      self.history.setdefault(k, []).append(v)\n",
        "    np.save(self.savepath, self.history)\n",
        "\n",
        "def plotKerasLearningCurve():\n",
        "  plt.figure(figsize= (10,5))\n",
        "  metrics = np.load('logs.npy')[()]\n",
        "  filter= ['acc', 'loss']\n",
        "  for k in filter(labda x: np.any([kk iin x for kk in filter]), metrics.keys()):\n",
        "    l = np.array(metrics[k])\n",
        "    plt.plot(l, \n",
        "             c= 'r' if 'val' not in k else 'b', \n",
        "             label = 'val' if 'val' in k else 'train' )\n",
        "    x=  np.argmin(l) if 'loss' in k else np.argmax(l)\n",
        "    y = l[x]\n",
        "    plt.scatter(x,y, lw=0, alpha=0.25, s=100, c='r' if 'val' not in k else 'b')\n",
        "    plt.text(x,y, '{} = {:.4f}'.format(x,y), size='15', color ='r' if 'val' not in k else 'b')\n",
        "  plt.legend(loc=4)\n",
        "  plt.axis([0, None, None, None]);\n",
        "  plt.grid()\n",
        "  plt.xlabel('Number of epochs')\n",
        "  ply.ylabel('Accuracy')\n",
        "\n",
        "def plot_confusion_matrix(cm, classes, normalize=False, title='Confusion Matrix',\n",
        "                          cmap = plt.cm.Blues):\n",
        "  \"\"\"\n",
        "  Purpose: plot and prints the confusion matrix\n",
        "  default value for 'normalize' is false. change 'normalize' to 'True' to apply\n",
        "  \"\"\"\n",
        "  plt.figure(figsize=(8,8))\n",
        "  plt.imshow(cm, interpolation='nearest', cmap=cmap)\n",
        "  plt.title(title)\n",
        "  plt.colorbar()\n",
        "  tick_marks = np.arrange(len(classes))\n",
        "  plt.xticks(tick_marks, classes, rotation=90)\n",
        "  plt.yticks(tick_marks, classes)\n",
        "\n",
        "  # if normalization=true\n",
        "  if normalize:\n",
        "    cm = cm.astype('float') / cm.sum(axis=1)[;, np.newaxis]\n",
        "  \n",
        "  thresh = cm.max()/2.\n",
        "\n",
        "  for i,j in itertools.product(range(cm.shape[0]), range(cm.shape[1])):\n",
        "    plt.text(j, i, cm[i,j],\n",
        "             horizontalalignment = 'center',\n",
        "             color = 'white' if cm[i,j] > thresh else 'black'\n",
        "             )\n",
        "    plt.tight_layout()\n",
        "    plt.ylavel('True label')\n",
        "    plt.xlabel('Predicted label')\n",
        "\n",
        "\n",
        " def plot_learning_curve(history):\n",
        "   \"\"\"\n",
        "    plotting and saving learning figure curve\n",
        "   \"\"\"\n",
        "   plt.figure(figsize= (8,8))\n",
        "\n",
        "   plt.subplot(1,2,1)\n",
        "   plt.plot(history.history['acc'])\n",
        "   plt.plot(history,history['vall_acc'])\n",
        "   plt.title ('model accuracy')\n",
        "   plt.xlabel('epoch')\n",
        "   plt.ylabel('accuracy')\n",
        "   plt.legend(['train', 'test'], loc='upper left')\n",
        "   plt.savefig('accuracy_curve.png')\n",
        "\n",
        "   plt.subplot(1,2,2)\n",
        "   plt.plot(history.history['loss'])\n",
        "   plt.plot(history.history['val_loss'])\n",
        "   plt.title('model loss')\n",
        "   plt.ylabel('loss')\n",
        "   plt.xlabel('epoch')\n",
        "   plt.legend(['train', 'test'], loc='upper left')\n",
        "   plt.savefig('./loss_curve.png')\n",
        "     \n"
      ],
      "execution_count": 0,
      "outputs": []
    },
    {
      "cell_type": "markdown",
      "metadata": {
        "id": "PW2MOa_pQJIB",
        "colab_type": "text"
      },
      "source": [
        "# Modelling"
      ]
    },
    {
      "cell_type": "code",
      "metadata": {
        "id": "UmMyrKQVQp6G",
        "colab_type": "code",
        "colab": {}
      },
      "source": [
        "map_characters1 = dict_mapping\n",
        "\n",
        "class_weight1 = class_weight.compute_class_weight('balanced', np.unique(y_train), y_train)\n",
        "weight_path1 = '../input/keras-pretrained-models/vgg16_weights_tf_dim_ordering_tf_kernels_notop.h5'\n",
        "weight_path2 = '../input/keras-pretrained-models/inception_v3_weights_tf_dim_ordering_tf_kernels_notop.h5'\n",
        "\n",
        "pretrained_model_1 = tf.keras.applications.VGG16(weights = weight_path1, include_top=False, input_shape=(imageSize, imageSize, 3))\n",
        "#pretrained_model_2 = InceptionV3(weights = weight_path2, include_top=False, input_shape=(imageSize, imageSize, 3))\n",
        "optimizer1 = keras.optimizers.Adam()\n",
        "optimizer2 = keras.optimizers.RMSprop(lr=0.0001)"
      ],
      "execution_count": 0,
      "outputs": []
    },
    {
      "cell_type": "code",
      "metadata": {
        "id": "YAGU66WH_iTH",
        "colab_type": "code",
        "colab": {}
      },
      "source": [
        "def pretrainedNetwork(xtrain,ytrain,xtest,ytest,pretrainedmodel,pretrainedweights,classweight,numclasses,numepochs,optimizer,labels):\n",
        "    base_model = pretrained_model_1 # Topless\n",
        "\n",
        "    # Add top layer\n",
        "    x = base_model.output\n",
        "    x = Flatten()(x)\n",
        "    predictions = Dense(numclasses, activation='softmax')(x)\n",
        "    model = Model(inputs=base_model.input, outputs=predictions)\n",
        "\n",
        "    # Train top layer\n",
        "    for layer in base_model.layers:\n",
        "        layer.trainable = False\n",
        "    model.compile(loss='categorical_crossentropy', \n",
        "                  optimizer=optimizer, \n",
        "                  metrics=['accuracy'])\n",
        "    callbacks_list = [keras.callbacks.EarlyStopping(monitor='val_acc', patience=3, verbose=1)]\n",
        "    model.summary()\n",
        "\n",
        "    # Fit model\n",
        "    history = model.fit(xtrain,ytrain, epochs=numepochs, class_weight=classweight, validation_data=(xtest,ytest), verbose=1,callbacks = [MetricsCheckpoint('logs')])\n",
        "    \n",
        "    # Evaluate model\n",
        "    score = model.evaluate(xtest,ytest, verbose=0)\n",
        "    print('\\nKeras CNN - accuracy:', score[1], '\\n')\n",
        "    y_pred = model.predict(xtest)\n",
        "    print('\\n', sklearn.metrics.classification_report(np.where(ytest > 0)[1], np.argmax(y_pred, axis=1), target_names=list(labels.values())), sep='') \n",
        "    Y_pred_classes = np.argmax(y_pred,axis = 1) \n",
        "    Y_true = np.argmax(ytest,axis = 1) \n",
        "    confusion_mtx = confusion_matrix(Y_true, Y_pred_classes) \n",
        "    plotKerasLearningCurve()\n",
        "    plt.show()\n",
        "    plot_learning_curve(history)\n",
        "    plt.show()\n",
        "    plot_confusion_matrix(confusion_mtx, classes = list(labels.values()))\n",
        "    plt.show()\n",
        "    return model"
      ],
      "execution_count": 0,
      "outputs": []
    },
    {
      "cell_type": "markdown",
      "metadata": {
        "id": "lvYgNXXpQXaP",
        "colab_type": "text"
      },
      "source": [
        "# Model Training"
      ]
    },
    {
      "cell_type": "code",
      "metadata": {
        "id": "OPF3xzGpQVit",
        "colab_type": "code",
        "colab": {}
      },
      "source": [
        "pretrainedNetwork(X_train, y_trainHot, X_test, y_testHot,pretrained_model_1,weight_path1,class_weight1,30,10,optimizer1,map_characters1)"
      ],
      "execution_count": 0,
      "outputs": []
    }
  ]
}